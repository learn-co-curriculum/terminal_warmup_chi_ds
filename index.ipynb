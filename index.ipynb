{
 "cells": [
  {
   "cell_type": "markdown",
   "metadata": {},
   "source": [
    "# Terminal Warmup Exercise"
   ]
  },
  {
   "cell_type": "markdown",
   "metadata": {},
   "source": [
    "Yesterday, we learned to create folders, files, and print their content to the terminal.  Today, we will start with some basic data exploration in the command line. Let's explore the data found at the following url.  Open up a terminal window (or use the ! operator in a jupyter code cell) to navigate to a directory where you want to store the data, and run the following command:\n"
   ]
  },
  {
   "cell_type": "markdown",
   "metadata": {},
   "source": [
    "```\n",
    "curl http://rcs.bu.edu/examples/python/data_analysis/flights.csv -o flights.csv\n",
    "```"
   ]
  },
  {
   "cell_type": "markdown",
   "metadata": {},
   "source": [
    "### Now, perform some initial data exploration with the following commands:\n",
    "\n",
    "    cat flights.csv\n",
    "\n",
    "    head flights.csv\n",
    "\n",
    "    tail flights.csv\n",
    "\n",
    "    less flights.csv"
   ]
  },
  {
   "cell_type": "markdown",
   "metadata": {},
   "source": [
    "### Try out the following commands.  The \"|\" is called a pipe.  It operates on the output of the previous command.  Explore what each part of the expression is doing.\n",
    "\n",
    "    cat flights.csv |  cut -d, -f12 | tail -n +2 | sort | uniq  | wc -l "
   ]
  },
  {
   "cell_type": "code",
   "execution_count": null,
   "metadata": {},
   "outputs": [],
   "source": [
    "#__SOLUTION__\n",
    "\n",
    "'''\n",
    "1. cat flights.csv outputs the data of the csv file, and pipes it into the next command\n",
    "2. Cut -d, tells to split up each line by a comma for a delimiter, then output the 12th column\n",
    "3. tail -n +2 removes the header from the outpu\n",
    "4. Sort sorts the values alphabetically\n",
    "5. uniq reduces the output to uniqu values\n",
    "6. wc -l counts the number of lines output in the terminal\n",
    "\n",
    "'''\n"
   ]
  }
 ],
 "metadata": {
  "kernelspec": {
   "display_name": "Python 3",
   "language": "python",
   "name": "python3"
  },
  "language_info": {
   "codemirror_mode": {
    "name": "ipython",
    "version": 3
   },
   "file_extension": ".py",
   "mimetype": "text/x-python",
   "name": "python",
   "nbconvert_exporter": "python",
   "pygments_lexer": "ipython3",
   "version": "3.7.3"
  }
 },
 "nbformat": 4,
 "nbformat_minor": 4
}
